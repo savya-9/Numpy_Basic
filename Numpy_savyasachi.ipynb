{
 "cells": [
  {
   "cell_type": "code",
   "execution_count": 1,
   "id": "cac5c061",
   "metadata": {},
   "outputs": [],
   "source": [
    "import numpy as np\n"
   ]
  },
  {
   "cell_type": "code",
   "execution_count": 2,
   "id": "074673a6",
   "metadata": {},
   "outputs": [
    {
     "data": {
      "text/plain": "array([ 9, 18, 27])"
     },
     "execution_count": 2,
     "metadata": {},
     "output_type": "execute_result"
    }
   ],
   "source": [
    "simple_list = [9, 18, 27]\n",
    "np.array(simple_list)"
   ]
  },
  {
   "cell_type": "code",
   "execution_count": 3,
   "id": "be664fd4",
   "metadata": {},
   "outputs": [
    {
     "data": {
      "text/plain": "array([ 9, 18, 27])"
     },
     "execution_count": 3,
     "metadata": {},
     "output_type": "execute_result"
    }
   ],
   "source": [
    "arr = np.array([9, 18, 27])\n",
    "arr\n"
   ]
  },
  {
   "cell_type": "code",
   "execution_count": 4,
   "id": "d2893378",
   "metadata": {},
   "outputs": [
    {
     "data": {
      "text/plain": "array([[ 9, 18, 27],\n       [ 5, 10, 25],\n       [ 7, 14, 47]])"
     },
     "execution_count": 4,
     "metadata": {},
     "output_type": "execute_result"
    }
   ],
   "source": [
    "list_of_lists = ([9, 18, 27], [5, 10, 25], [7, 14, 47])\n",
    "np.array(list_of_lists)\n"
   ]
  },
  {
   "cell_type": "code",
   "execution_count": 5,
   "id": "4a816c27",
   "metadata": {},
   "outputs": [
    {
     "data": {
      "text/plain": "array([[ 4,  5,  9],\n       [ 8, 24, 16],\n       [ 2,  4,  9]])"
     },
     "execution_count": 5,
     "metadata": {},
     "output_type": "execute_result"
    }
   ],
   "source": [
    "arr = np.array([[4,5,9],[8,24,16],[2,4,9]])\n",
    "arr\n"
   ]
  },
  {
   "cell_type": "code",
   "execution_count": 6,
   "id": "9358a897",
   "metadata": {},
   "outputs": [
    {
     "data": {
      "text/plain": "array([ 4,  5,  6,  7,  8,  9, 10, 11, 12, 13, 14, 15, 16, 17, 18, 19, 20,\n       21, 22, 23, 24, 25, 26, 27, 28, 29, 30, 31, 32, 33, 34, 35, 36, 37,\n       38, 39, 40, 41, 42, 43, 44, 45, 46, 47, 48, 49, 50, 51, 52, 53, 54,\n       55, 56, 57, 58, 59, 60, 61, 62, 63])"
     },
     "execution_count": 6,
     "metadata": {},
     "output_type": "execute_result"
    }
   ],
   "source": [
    "np.arange(4, 64) # Will arrange numbers from 4 to 64 discluding 64"
   ]
  },
  {
   "cell_type": "code",
   "execution_count": 7,
   "id": "4c811362",
   "metadata": {},
   "outputs": [
    {
     "data": {
      "text/plain": "array([ 4,  8, 12, 16, 20, 24, 28, 32, 36, 40, 44, 48, 52, 56, 60])"
     },
     "execution_count": 7,
     "metadata": {},
     "output_type": "execute_result"
    }
   ],
   "source": [
    "np.arange(4, 64, 4) # Will arrange numbers from 4 to 64 discluding 64 with a step of 4"
   ]
  },
  {
   "cell_type": "code",
   "execution_count": 8,
   "id": "65f7a08b",
   "metadata": {},
   "outputs": [
    {
     "data": {
      "text/plain": "array([0., 0., 0., 0., 0., 0., 0., 0., 0.])"
     },
     "execution_count": 8,
     "metadata": {},
     "output_type": "execute_result"
    }
   ],
   "source": [
    "np.zeros(9) # Will give an array of 9 zeros"
   ]
  },
  {
   "cell_type": "code",
   "execution_count": 9,
   "id": "99d1a768",
   "metadata": {},
   "outputs": [
    {
     "data": {
      "text/plain": "array([0, 0, 0, 0, 0, 0])"
     },
     "execution_count": 9,
     "metadata": {},
     "output_type": "execute_result"
    }
   ],
   "source": [
    "np.zeros(6, dtype=int)"
   ]
  },
  {
   "cell_type": "code",
   "execution_count": 10,
   "id": "528c6e46",
   "metadata": {},
   "outputs": [
    {
     "data": {
      "text/plain": "array([1., 1., 1., 1.])"
     },
     "execution_count": 10,
     "metadata": {},
     "output_type": "execute_result"
    }
   ],
   "source": [
    "np.ones(4) #Will give an array of four ones"
   ]
  },
  {
   "cell_type": "code",
   "execution_count": 11,
   "id": "d5f1c3ac",
   "metadata": {},
   "outputs": [
    {
     "data": {
      "text/plain": "array([1, 1, 1, 1])"
     },
     "execution_count": 11,
     "metadata": {},
     "output_type": "execute_result"
    }
   ],
   "source": [
    "np.ones(4, dtype=int)"
   ]
  },
  {
   "cell_type": "code",
   "execution_count": 12,
   "id": "ffd85132",
   "metadata": {},
   "outputs": [
    {
     "data": {
      "text/plain": "array([[1, 1, 1, 1, 1, 1, 1, 1, 1],\n       [1, 1, 1, 1, 1, 1, 1, 1, 1],\n       [1, 1, 1, 1, 1, 1, 1, 1, 1]])"
     },
     "execution_count": 12,
     "metadata": {},
     "output_type": "execute_result"
    }
   ],
   "source": [
    "np.ones((3, 9), dtype = int) # This method workd with only ones and zeros"
   ]
  },
  {
   "cell_type": "code",
   "execution_count": 13,
   "id": "653eb82c",
   "metadata": {},
   "outputs": [
    {
     "data": {
      "text/plain": "array([1.        , 3.66666667, 6.33333333, 9.        ])"
     },
     "execution_count": 13,
     "metadata": {},
     "output_type": "execute_result"
    }
   ],
   "source": [
    "np.linspace(1,9,4) # Will give four equally distributed numbers between 1 and 9"
   ]
  },
  {
   "cell_type": "code",
   "execution_count": 14,
   "id": "06239069",
   "metadata": {},
   "outputs": [
    {
     "data": {
      "text/plain": "array([ 0.        ,  0.71428571,  1.42857143,  2.14285714,  2.85714286,\n        3.57142857,  4.28571429,  5.        ,  5.71428571,  6.42857143,\n        7.14285714,  7.85714286,  8.57142857,  9.28571429, 10.        ])"
     },
     "execution_count": 14,
     "metadata": {},
     "output_type": "execute_result"
    }
   ],
   "source": [
    "np.linspace(0,10,15)"
   ]
  },
  {
   "cell_type": "code",
   "execution_count": 15,
   "id": "ddbc9eea",
   "metadata": {},
   "outputs": [
    {
     "data": {
      "text/plain": "array([[1., 0., 0., 0., 0., 0., 0., 0., 0.],\n       [0., 1., 0., 0., 0., 0., 0., 0., 0.],\n       [0., 0., 1., 0., 0., 0., 0., 0., 0.],\n       [0., 0., 0., 1., 0., 0., 0., 0., 0.],\n       [0., 0., 0., 0., 1., 0., 0., 0., 0.],\n       [0., 0., 0., 0., 0., 1., 0., 0., 0.],\n       [0., 0., 0., 0., 0., 0., 1., 0., 0.],\n       [0., 0., 0., 0., 0., 0., 0., 1., 0.],\n       [0., 0., 0., 0., 0., 0., 0., 0., 1.]])"
     },
     "execution_count": 15,
     "metadata": {},
     "output_type": "execute_result"
    }
   ],
   "source": [
    "np.eye(9) # Will give an identity matrix of 9X9 matrix"
   ]
  },
  {
   "cell_type": "code",
   "execution_count": 16,
   "id": "1e14ed55",
   "metadata": {},
   "outputs": [
    {
     "data": {
      "text/plain": "array([[0.63237984, 0.34248412, 0.15260885, 0.41622235, 0.96369866,\n        0.64353435, 0.58772538, 0.03580513, 0.82240751],\n       [0.02841748, 0.31618014, 0.42016513, 0.29198511, 0.91122856,\n        0.54108301, 0.09689668, 0.05780933, 0.43509944],\n       [0.30419223, 0.52786891, 0.32975258, 0.22982469, 0.42719867,\n        0.46785217, 0.27228592, 0.96324321, 0.34613885]])"
     },
     "execution_count": 16,
     "metadata": {},
     "output_type": "execute_result"
    }
   ],
   "source": [
    "np.random.rand(3,9)"
   ]
  },
  {
   "cell_type": "code",
   "execution_count": 17,
   "id": "399a78c2",
   "metadata": {},
   "outputs": [
    {
     "data": {
      "text/plain": "array([[-1.38752337,  0.43296814,  0.17029793,  0.08682941, -1.63914922,\n         0.70738753],\n       [-0.51596086,  0.55631873, -3.06542558, -0.69494722, -1.36914431,\n        -0.60921644],\n       [-0.45898557, -0.37811285, -0.06327055,  0.62371937,  0.1404995 ,\n        -2.31573812]])"
     },
     "execution_count": 17,
     "metadata": {},
     "output_type": "execute_result"
    }
   ],
   "source": [
    "np.random.randn(3,6)"
   ]
  },
  {
   "cell_type": "code",
   "execution_count": 18,
   "id": "287796cf",
   "metadata": {},
   "outputs": [
    {
     "data": {
      "text/plain": "array([11, 12,  7,  7])"
     },
     "execution_count": 18,
     "metadata": {},
     "output_type": "execute_result"
    }
   ],
   "source": [
    "np.random.randint(3,18,4)"
   ]
  },
  {
   "cell_type": "code",
   "execution_count": 19,
   "id": "e2719c89",
   "metadata": {},
   "outputs": [
    {
     "data": {
      "text/plain": "array([69, 12,  7, 44, 60, 85, 44, 84, 47, 84, 88, 11,  6, 95, 29, 76, 74,\n       64])"
     },
     "execution_count": 19,
     "metadata": {},
     "output_type": "execute_result"
    }
   ],
   "source": [
    "np.random.randint(3, 99, 18)"
   ]
  },
  {
   "cell_type": "code",
   "execution_count": 20,
   "id": "d4c705bf",
   "metadata": {},
   "outputs": [
    {
     "data": {
      "text/plain": "array([ 3,  4,  5,  6,  7,  8,  9, 10, 11, 12, 13, 14, 15, 16, 17])"
     },
     "execution_count": 20,
     "metadata": {},
     "output_type": "execute_result"
    }
   ],
   "source": [
    "sample = np.arange(3, 18)\n",
    "sample"
   ]
  },
  {
   "cell_type": "code",
   "execution_count": 21,
   "id": "14a22fb2",
   "metadata": {},
   "outputs": [
    {
     "data": {
      "text/plain": "array([12, 13, 13,  3, 13,  7,  5, 16, 15])"
     },
     "execution_count": 21,
     "metadata": {},
     "output_type": "execute_result"
    }
   ],
   "source": [
    "random_array = np.random.randint(3,18,9)\n",
    "random_array"
   ]
  },
  {
   "cell_type": "code",
   "execution_count": 22,
   "id": "dda457fa",
   "metadata": {},
   "outputs": [
    {
     "data": {
      "text/plain": "3"
     },
     "execution_count": 22,
     "metadata": {},
     "output_type": "execute_result"
    }
   ],
   "source": [
    "sample.min()"
   ]
  },
  {
   "cell_type": "code",
   "execution_count": 23,
   "id": "0d3499d5",
   "metadata": {},
   "outputs": [
    {
     "data": {
      "text/plain": "17"
     },
     "execution_count": 23,
     "metadata": {},
     "output_type": "execute_result"
    }
   ],
   "source": [
    "sample.max()"
   ]
  },
  {
   "cell_type": "code",
   "execution_count": 24,
   "id": "0dd7f061",
   "metadata": {},
   "outputs": [
    {
     "data": {
      "text/plain": "0"
     },
     "execution_count": 24,
     "metadata": {},
     "output_type": "execute_result"
    }
   ],
   "source": [
    "sample.argmin()"
   ]
  },
  {
   "cell_type": "code",
   "execution_count": 25,
   "id": "4e458603",
   "metadata": {},
   "outputs": [
    {
     "data": {
      "text/plain": "3"
     },
     "execution_count": 25,
     "metadata": {},
     "output_type": "execute_result"
    }
   ],
   "source": [
    "random_array.min()"
   ]
  },
  {
   "cell_type": "code",
   "execution_count": 26,
   "id": "8abdf0b7",
   "metadata": {},
   "outputs": [
    {
     "data": {
      "text/plain": "16"
     },
     "execution_count": 26,
     "metadata": {},
     "output_type": "execute_result"
    }
   ],
   "source": [
    "random_array.max()"
   ]
  },
  {
   "cell_type": "code",
   "execution_count": 27,
   "id": "714c2a14",
   "metadata": {},
   "outputs": [],
   "source": [
    "list_o_list = ()"
   ]
  },
  {
   "cell_type": "code",
   "execution_count": 27,
   "outputs": [],
   "source": [
    "sample_array [:] = 1001\n",
    "sample_array"
   ],
   "metadata": {
    "collapsed": false,
    "pycharm": {
     "name": "#%%\n"
    }
   }
  }
 ],
 "metadata": {
  "kernelspec": {
   "display_name": "Python 3",
   "language": "python",
   "name": "python3"
  },
  "language_info": {
   "codemirror_mode": {
    "name": "ipython",
    "version": 3
   },
   "file_extension": ".py",
   "mimetype": "text/x-python",
   "name": "python",
   "nbconvert_exporter": "python",
   "pygments_lexer": "ipython3",
   "version": "3.8.8"
  }
 },
 "nbformat": 4,
 "nbformat_minor": 5
}